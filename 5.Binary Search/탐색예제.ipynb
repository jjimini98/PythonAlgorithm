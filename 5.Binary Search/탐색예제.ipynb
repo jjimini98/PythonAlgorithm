{
 "cells": [
  {
   "cell_type": "markdown",
   "metadata": {},
   "source": [
    "순차탐색"
   ]
  },
  {
   "cell_type": "code",
   "execution_count": 1,
   "metadata": {},
   "outputs": [],
   "source": [
    "def sequential_search(n, target, array):\n",
    "    for i in range(n):\n",
    "        if array[i] == target:\n",
    "            return i + 1"
   ]
  },
  {
   "cell_type": "code",
   "execution_count": 4,
   "metadata": {},
   "outputs": [
    {
     "name": "stdout",
     "output_type": "stream",
     "text": [
      "생성할 원소 개수를 입력한 다음 찾을 문자열을 입력하세요\n",
      "5 dongbin\n",
      "앞서 적은 원소 개수만큼의 문자열을 입력하세요. 구분은 띄어쓰기 한 칸으로 합니다\n",
      "['haneul']\n"
     ]
    }
   ],
   "source": [
    "print(\"생성할 원소 개수를 입력한 다음 찾을 문자열을 입력하세요\")\n",
    "input_data = input().split()\n",
    "n = int(input_data[0])\n",
    "target = input_data[1]\n",
    "\n",
    "print(n , target)\n",
    "\n",
    "\n",
    "print(\"앞서 적은 원소 개수만큼의 문자열을 입력하세요. 구분은 띄어쓰기 한 칸으로 합니다\")\n",
    "array = input().split()\n",
    "\n",
    "print(array)\n",
    "\n",
    "# print(sequential_search(n,target,array))"
   ]
  },
  {
   "cell_type": "markdown",
   "metadata": {},
   "source": [
    "재귀함수로 구현한 이진탐색"
   ]
  },
  {
   "cell_type": "code",
   "execution_count": 5,
   "metadata": {},
   "outputs": [],
   "source": [
    "def binary_search_recursive(array, target, start, end): #start, end는 각각의 인덱스를 말함\n",
    "    if start > end: # 시작점이 끝점 보다 큰 경우  \n",
    "        return None\n",
    "    mid = (start+end)//2 # 중간점의 인덱스 \n",
    "    if array[mid] == target: # 중간지점이 찾으려는 target과 같으면 return mid\n",
    "        return mid # 인덱스 위치 찾을 때까지 위 과정을 재귀로 반복 \n",
    "\n",
    "    elif array[mid] > target:\n",
    "        return binary_search_recursive(array, target, start, mid-1) # 끝점 이동시키기 \n",
    "    \n",
    "    else: \n",
    "        return binary_search_recursive(array,target, mid+1, end)\n"
   ]
  },
  {
   "cell_type": "code",
   "execution_count": 8,
   "metadata": {},
   "outputs": [
    {
     "name": "stdout",
     "output_type": "stream",
     "text": [
      "4\n"
     ]
    }
   ],
   "source": [
    "n , target = list(map(int, input().split())) #n은 array의 원소의 개수, target은 찾으려는 값 \n",
    "array = list(map(int, input().split()))\n",
    "\n",
    "\n",
    "result = binary_search_recursive(array, target, 0, n-1)\n",
    "if result == None: print(\"원소가 존재하지 않습니다\")\n",
    "else: print(result+1)"
   ]
  },
  {
   "cell_type": "markdown",
   "metadata": {},
   "source": [
    "반복문으로 구현한 이진 탐색"
   ]
  },
  {
   "cell_type": "code",
   "execution_count": 9,
   "metadata": {},
   "outputs": [],
   "source": [
    "def binary_search_loop(array, target, start, end):\n",
    "    while start <= end: # 시작점이 끝점보다 작거나 같을 때는 반복문을 계속 실행 \n",
    "        mid = (start+end)//2\n",
    "        if array[mid] < target : \n",
    "            start = mid+1\n",
    "        elif array[mid] > target : \n",
    "            end = mid-1\n",
    "        else : # array[mid] == target \n",
    "            return mid \n",
    "    return None\n"
   ]
  },
  {
   "cell_type": "code",
   "execution_count": null,
   "metadata": {},
   "outputs": [],
   "source": [
    "n , target = list(map(int, input().split()))\n",
    "array = list(map(int, input().split()))\n",
    "\n",
    "result = binary_search_loop(array,target, 0 , n-1)\n",
    "if result == None: print(\"원소가 존재하지 않습니다\")\n",
    "else: print(result+1)"
   ]
  }
 ],
 "metadata": {
  "interpreter": {
   "hash": "9ccb8ad3244050595930a0fcf31ccb7da133f814cdfc5048019b2ea63717ec5c"
  },
  "kernelspec": {
   "display_name": "Python 3.9.5 64-bit",
   "language": "python",
   "name": "python3"
  },
  "language_info": {
   "codemirror_mode": {
    "name": "ipython",
    "version": 3
   },
   "file_extension": ".py",
   "mimetype": "text/x-python",
   "name": "python",
   "nbconvert_exporter": "python",
   "pygments_lexer": "ipython3",
   "version": "3.9.5"
  },
  "orig_nbformat": 4
 },
 "nbformat": 4,
 "nbformat_minor": 2
}
