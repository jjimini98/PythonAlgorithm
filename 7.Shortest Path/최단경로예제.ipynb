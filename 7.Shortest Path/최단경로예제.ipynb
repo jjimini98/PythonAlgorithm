{
 "cells": [
  {
   "cell_type": "markdown",
   "metadata": {},
   "source": [
    "### 간단한 다익스트라 알고리즘"
   ]
  },
  {
   "cell_type": "code",
   "execution_count": null,
   "metadata": {},
   "outputs": [],
   "source": [
    "# import sys\n",
    "# input = sys.stdin.readline \n",
    "# 주피터에서는 sys가 잘 안먹히는듯.. 입력 받을 때 input()으로 하자\n",
    "\n",
    "INF = int(1e9)\n",
    "\n",
    "n,m = map(int, input().split())\n",
    "start = int(input())\n",
    "graph = [[] for _ in range(n+1)]\n",
    "visited = [False]*(n+1)\n",
    "distance = [INF] * (n+1)  \n",
    "\n",
    "for _ in range(m):\n",
    "    a,b,c = map(int, input().split())\n",
    "    graph[a].append((b,c))\n",
    "print(graph)\n",
    "\n",
    "\n",
    "def get_smallest_node():\n",
    "    min_value = INF\n",
    "    index = 0\n",
    "    for i in range(1, n+1):\n",
    "        if distance[i] < min_value and not visited[i]:\n",
    "            min_value = distance[i]\n",
    "            index = i \n",
    "    return index\n",
    "\n",
    "\n",
    "def dijkstra(start):\n",
    "    distance[start] = 0 \n",
    "    visited[start] = True\n",
    "    for j in graph[start]:\n",
    "        distance[j[0]] = j[1]\n",
    "\n",
    "    for i in range(n-1):\n",
    "        now = get_smallest_node()\n",
    "        visited[now] = True\n",
    "\n",
    "        for j in graph[now]:\n",
    "            cost = distance[now] + j[i]\n",
    "            if cost < distance[j[0]] : \n",
    "                distance[j[0]] = cost\n",
    "\n",
    "\n",
    "dijkstra(start)\n",
    "\n",
    "for i in range(1, n+1):\n",
    "    if distance[i] == INF:\n",
    "        print(\"INFINITY\")\n",
    "\n",
    "    else: \n",
    "        print(distance[i])"
   ]
  },
  {
   "cell_type": "markdown",
   "metadata": {},
   "source": [
    "heapq 사용해보기"
   ]
  },
  {
   "cell_type": "code",
   "execution_count": 20,
   "metadata": {},
   "outputs": [
    {
     "name": "stdout",
     "output_type": "stream",
     "text": [
      "[(0, 1), (2, 2), (1, 4), (4, 1), (3, 1)]\n",
      "<class 'list'>\n"
     ]
    }
   ],
   "source": [
    "import heapq\n",
    "\n",
    "q = []\n",
    "\n",
    "heapq.heappush(q, (4,1))\n",
    "heapq.heappush(q, (0,1))\n",
    "heapq.heappush(q, (1,4))\n",
    "heapq.heappush(q, (3,1))\n",
    "heapq.heappush(q, (2,2))\n",
    "\n",
    "print(q)\n",
    "print(type(q))"
   ]
  },
  {
   "cell_type": "code",
   "execution_count": 27,
   "metadata": {},
   "outputs": [
    {
     "name": "stdout",
     "output_type": "stream",
     "text": [
      "push 결과 [0, 1, 2, 6, 3, 5, 4, 7, 8, 9]\n",
      "heapify 결과 [0, 1, 2, 6, 3, 5, 4, 7, 8, 9]\n",
      "최종결과 [0, 1, 2, 3, 4, 5, 6, 7, 8, 9]\n"
     ]
    }
   ],
   "source": [
    "import heapq\n",
    "\n",
    "def heapsort(iterable):\n",
    "    h = []\n",
    "    result = []\n",
    "\n",
    "    for value in iterable:\n",
    "        heapq.heappush(h,value)\n",
    "    print(\"push 결과\" , h)\n",
    "    heapq.heapify(h)\n",
    "    print(\"heapify 결과\", h)\n",
    "    for i in range(len(h)):\n",
    "        result.append(heapq.heappop(h))\n",
    "        # print(result)\n",
    "    return result \n",
    "\n",
    "\n",
    "result = heapsort([1,3,5,7,9,2,4,6,8,0])\n",
    "print(\"최종결과\" , result)"
   ]
  }
 ],
 "metadata": {
  "interpreter": {
   "hash": "9ccb8ad3244050595930a0fcf31ccb7da133f814cdfc5048019b2ea63717ec5c"
  },
  "kernelspec": {
   "display_name": "Python 3.9.5 64-bit",
   "language": "python",
   "name": "python3"
  },
  "language_info": {
   "codemirror_mode": {
    "name": "ipython",
    "version": 3
   },
   "file_extension": ".py",
   "mimetype": "text/x-python",
   "name": "python",
   "nbconvert_exporter": "python",
   "pygments_lexer": "ipython3",
   "version": "3.9.5"
  },
  "orig_nbformat": 4
 },
 "nbformat": 4,
 "nbformat_minor": 2
}
