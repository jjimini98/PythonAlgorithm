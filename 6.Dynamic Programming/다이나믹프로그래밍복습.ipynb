{
 "cells": [
  {
   "cell_type": "markdown",
   "metadata": {},
   "source": [
    "### 0317 다이나믹 프로그래밍 복습"
   ]
  },
  {
   "cell_type": "markdown",
   "metadata": {},
   "source": [
    "피보나치 수열 재귀함수로 짜기\n",
    "\n",
    "- 재귀함수로 짜게 되면 같은 함수를 여러번 호출해야하는 문제점이 있음.\n",
    "- 계산 양이 많아지면 그만큼 반복해서 호출해야하는 경우가 늘어남 "
   ]
  },
  {
   "cell_type": "code",
   "execution_count": 1,
   "metadata": {},
   "outputs": [],
   "source": [
    "def fibo(x):\n",
    "    if x == 1 or x == 2:\n",
    "        return 1 \n",
    "    return fibo(x-1) + fibo(x-2)"
   ]
  },
  {
   "cell_type": "code",
   "execution_count": 2,
   "metadata": {},
   "outputs": [
    {
     "name": "stdout",
     "output_type": "stream",
     "text": [
      "3\n"
     ]
    }
   ],
   "source": [
    "print(fibo(4))"
   ]
  },
  {
   "cell_type": "markdown",
   "metadata": {},
   "source": [
    "다이나믹 프로그래밍을 사용하면 , 매번 계산해야하는 문제를 줄일 수 있다.                                                \n",
    "다만, 항상 다이나믹 프로그래밍을 사용할 수는 없고, 아래의 조건을 만족해야한다.\n",
    "\n",
    "1) 큰 문제를 작은 문제로 나눌 수 있다.\n",
    "2) 작은 문제에서 구한 정답은 그것을 포함하는 큰 문제에서도 동일하다."
   ]
  },
  {
   "cell_type": "markdown",
   "metadata": {},
   "source": [
    "메모이제이션                          \n",
    ": 한 번 구한 결과를 메모리 공간에다가 저장(메모)해두고 같은 식을 다시 호출하면 그 결과를 그대로 가져오는 방법.                          \n",
    "리스트를 사용해서 한 번 구한 정보를 리스트에다가 저장하고, 같은 정보가 필요할 때면 그 정답을 리스트에서 가져오면 된다.        \n",
    "+) 때에 따라 리스트가 아닌 딕셔너리로도 구현이 가능하다. \n"
   ]
  },
  {
   "cell_type": "code",
   "execution_count": 3,
   "metadata": {},
   "outputs": [
    {
     "name": "stdout",
     "output_type": "stream",
     "text": [
      "218922995834555169026\n"
     ]
    }
   ],
   "source": [
    "# 재귀적으로 짠 피보나치 수열 코드\n",
    "\n",
    "\n",
    "d = [0] * 100 #메모이제이션하기위해 만든 리스트\n",
    "\n",
    "def fibo(x):\n",
    "    if x == 1 or x == 2:\n",
    "        return 1\n",
    "\n",
    "    if d[x] != 0 : # 이미 계산한 결과가 있는 경우 \n",
    "        return d[x] # 그냥 d[x] 값을 반환 \n",
    "    \n",
    "    # d[x] 의 값이 0이면, \n",
    "    d[x] = fibo(x-1) + fibo(x-2)\n",
    "    return d[x]\n",
    "\n",
    "print(fibo(99))"
   ]
  },
  {
   "cell_type": "markdown",
   "metadata": {},
   "source": [
    "정리)\n",
    "\n",
    "다이나믹 프로그래밍 : 큰 문제를 작게 나누고 , 같은 문제라면 한 번씩만 풀어 문제를 효율적으로 해결하는 알고리즘                         \n",
    "문제를 작게 나누어서 푸는 방법은 __퀵정렬__ 도 있긴하나 다이나믹 프로그래밍은 한 번 해결한 문제를 다시 사용하는 경우가 있다는 점이 차이점이다.               즉, 문제들이 서로에게 영향을 미치고 있다는 점.\n",
    "\n",
    "\n",
    "다이나믹 프로그래밍을 적용했을 때 피보나치 수열 알고리즘의 복잡도는 -> **O(N)**           \n",
    "f(1) 구한 다음 그 값이 f(2)를 푸는데 사용되고, f(2)의 값이 f(3) 푸는데 사용되는 방식으로 이어지기 때문이다. \n",
    "\n",
    "\n"
   ]
  },
  {
   "cell_type": "markdown",
   "metadata": {},
   "source": [
    "------------------------------------------------------------------------\n",
    "\n",
    "\n",
    "재귀 함수를 사용해 소스코드를 작성하는 방법 : 탑 다운 방식  --> 큰 문제를 해결하기 위해 작은 문제를 호출             \n",
    "실제로 재귀함수에서 호출되는 함수를 보면 큰 수에서 작은 수로 ( 큰 문제에서 작은 문제로 ) 호출이 된다.         \n",
    "\n",
    "\n",
    "\n",
    "단순히 반복문을 이용해 소스코드를 작성하는 경우 : 보텀업 방식 --> 작은 문제부터 차근 차근 답을 도출                                   \n",
    "반복문은 작은 수에서 큰 수로 ( 작은 문제에서 큰 문제로 ) 호출이 된다. "
   ]
  },
  {
   "cell_type": "code",
   "execution_count": 4,
   "metadata": {},
   "outputs": [
    {
     "name": "stdout",
     "output_type": "stream",
     "text": [
      "218922995834555169026\n"
     ]
    }
   ],
   "source": [
    "# 반복문으로 짠 피보나치 수열 코드\n",
    "\n",
    "d = [0] * 100\n",
    "\n",
    "d[1] = 1\n",
    "d[2] = 1 \n",
    "n = 99\n",
    "\n",
    "for i in range(3,n+1):\n",
    "    d[i] = d[i-1] + d[i-2]\n",
    "\n",
    "print(d[n])\n",
    "\n"
   ]
  },
  {
   "cell_type": "markdown",
   "metadata": {},
   "source": [
    "다이나믹 프로그래밍 문제를 푸는 방법                  \n",
    "1) 주어진 문제가 다이나믹 프로그래밍 유형임을 파악해야함.                      \n",
    "    - 완전 탐색 알고리즘으로 접근했을 때 시간이 매우 오래걸리면, 다이나믹 프로그래밍을 적용할 수 있는지, 해결하고자 하는 부분 문제들의 중복 여부를 확인 \n",
    "\n",
    "2) 탑다운 방식(재귀) 보다는 보텀업(반복문) 방식으로 구현하는 것을 권장.\n",
    "    - 시스템 상 재귀 함수의 스택 크기가 한정적일 수도 있기 때문.\n"
   ]
  }
 ],
 "metadata": {
  "interpreter": {
   "hash": "9ccb8ad3244050595930a0fcf31ccb7da133f814cdfc5048019b2ea63717ec5c"
  },
  "kernelspec": {
   "display_name": "Python 3.9.5 64-bit",
   "language": "python",
   "name": "python3"
  },
  "language_info": {
   "codemirror_mode": {
    "name": "ipython",
    "version": 3
   },
   "file_extension": ".py",
   "mimetype": "text/x-python",
   "name": "python",
   "nbconvert_exporter": "python",
   "pygments_lexer": "ipython3",
   "version": "3.9.5"
  },
  "orig_nbformat": 4
 },
 "nbformat": 4,
 "nbformat_minor": 2
}
