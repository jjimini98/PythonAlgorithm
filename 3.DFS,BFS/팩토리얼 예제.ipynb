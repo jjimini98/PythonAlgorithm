{
 "cells": [
  {
   "cell_type": "code",
   "execution_count": 1,
   "metadata": {},
   "outputs": [],
   "source": [
    "# 반복문으로 구현한 팩토리얼 \n",
    "\n",
    "def factorial_iterative(n):\n",
    "    result = 1 # 팩토리얼 첫째 값\n",
    "    for i in range(1, n+1):\n",
    "        result *= i\n",
    "    return result "
   ]
  },
  {
   "cell_type": "code",
   "execution_count": 1,
   "metadata": {},
   "outputs": [],
   "source": [
    "# 재귀함수로 구현한 팩토리얼 (내가 짠 거) \n",
    "\n",
    "result = 1 \n",
    "\n",
    "def my_factorial_recursive(result, n):\n",
    "    result *= n \n",
    "    if n == 1 : print(result) \n",
    "    my_factorial_recursive(result , n-1)\n"
   ]
  },
  {
   "cell_type": "code",
   "execution_count": 2,
   "metadata": {},
   "outputs": [
    {
     "name": "stdout",
     "output_type": "stream",
     "text": [
      "2\n",
      "6\n",
      "2\n",
      "24\n",
      "2\n",
      "6\n",
      "2\n",
      "120\n",
      "2\n",
      "6\n",
      "2\n",
      "24\n",
      "2\n",
      "6\n",
      "2\n",
      "재귀로 구현한 팩토리얼 :  120\n"
     ]
    }
   ],
   "source": [
    "# 재귀함수로 구현한 팩토리얼 \n",
    "\n",
    "def factorial_recursive(n):\n",
    "    if n <= 1: return 1\n",
    "    print(n*factorial_recursive(n-1))\n",
    "    return n * factorial_recursive(n-1)\n",
    "\n",
    "print(\"재귀로 구현한 팩토리얼 : \" , factorial_recursive(5) )"
   ]
  },
  {
   "cell_type": "code",
   "execution_count": null,
   "metadata": {},
   "outputs": [],
   "source": []
  }
 ],
 "metadata": {
  "interpreter": {
   "hash": "9ccb8ad3244050595930a0fcf31ccb7da133f814cdfc5048019b2ea63717ec5c"
  },
  "kernelspec": {
   "display_name": "Python 3.9.5 64-bit",
   "language": "python",
   "name": "python3"
  },
  "language_info": {
   "codemirror_mode": {
    "name": "ipython",
    "version": 3
   },
   "file_extension": ".py",
   "mimetype": "text/x-python",
   "name": "python",
   "nbconvert_exporter": "python",
   "pygments_lexer": "ipython3",
   "version": "3.9.5"
  },
  "orig_nbformat": 4
 },
 "nbformat": 4,
 "nbformat_minor": 2
}
