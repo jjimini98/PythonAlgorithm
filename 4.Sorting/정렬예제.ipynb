{
 "cells": [
  {
   "cell_type": "markdown",
   "metadata": {},
   "source": [
    "선택정렬"
   ]
  },
  {
   "cell_type": "code",
   "execution_count": 4,
   "metadata": {},
   "outputs": [],
   "source": [
    "# 정렬 연습 리스트\n",
    "arr = [7,5,9,0,3,1,6,2,4,8]"
   ]
  },
  {
   "cell_type": "code",
   "execution_count": 3,
   "metadata": {},
   "outputs": [
    {
     "name": "stdout",
     "output_type": "stream",
     "text": [
      "0 [0, 5, 9, 7, 3, 1, 6, 2, 4, 8]\n",
      "1 [0, 1, 9, 7, 3, 5, 6, 2, 4, 8]\n",
      "2 [0, 1, 2, 7, 3, 5, 6, 9, 4, 8]\n",
      "3 [0, 1, 2, 3, 7, 5, 6, 9, 4, 8]\n",
      "4 [0, 1, 2, 3, 4, 5, 6, 9, 7, 8]\n",
      "5 [0, 1, 2, 3, 4, 5, 6, 9, 7, 8]\n",
      "6 [0, 1, 2, 3, 4, 5, 6, 9, 7, 8]\n",
      "7 [0, 1, 2, 3, 4, 5, 6, 7, 9, 8]\n",
      "8 [0, 1, 2, 3, 4, 5, 6, 7, 8, 9]\n",
      "9 [0, 1, 2, 3, 4, 5, 6, 7, 8, 9]\n"
     ]
    }
   ],
   "source": [
    "for i in range(len(arr)):\n",
    "    min_index = i \n",
    "    for j in range(i+1, len(arr)):\n",
    "        if arr[min_index] > arr[j]:\n",
    "            min_index = j \n",
    "    \n",
    "    # 다 돌고 가장 작은 j 값이랑 i랑 위치 변경\n",
    "    arr[i] , arr[min_index] = arr[min_index] , arr[i]\n",
    "\n",
    "    print(i , arr)"
   ]
  },
  {
   "cell_type": "markdown",
   "metadata": {},
   "source": [
    "삽입정렬 "
   ]
  },
  {
   "cell_type": "code",
   "execution_count": 9,
   "metadata": {},
   "outputs": [
    {
     "name": "stdout",
     "output_type": "stream",
     "text": [
      "1 [0, 1, 2, 3, 4, 5, 6, 7, 8, 9]\n",
      "2 [0, 1, 2, 3, 4, 5, 6, 7, 8, 9]\n",
      "3 [0, 1, 2, 3, 4, 5, 6, 7, 8, 9]\n",
      "4 [0, 1, 2, 3, 4, 5, 6, 7, 8, 9]\n",
      "5 [0, 1, 2, 3, 4, 5, 6, 7, 8, 9]\n",
      "6 [0, 1, 2, 3, 4, 5, 6, 7, 8, 9]\n",
      "7 [0, 1, 2, 3, 4, 5, 6, 7, 8, 9]\n",
      "8 [0, 1, 2, 3, 4, 5, 6, 7, 8, 9]\n",
      "9 [0, 1, 2, 3, 4, 5, 6, 7, 8, 9]\n"
     ]
    }
   ],
   "source": [
    "for i in range(1, len(arr)): # 0번째는 이미 정렬되어있다고 가정 \n",
    "    for j in range(i,0, -1): # i부터 시작해서 1까지 거꾸로 \n",
    "        if arr[j] < arr[j-1] : # 한 칸씩 왼쪽으로 이동\n",
    "            arr[j], arr[j-1] = arr[j-1] , arr[j]\n",
    "        else: \n",
    "            break \n",
    "    print(i, arr)"
   ]
  },
  {
   "cell_type": "markdown",
   "metadata": {},
   "source": [
    "test"
   ]
  },
  {
   "cell_type": "code",
   "execution_count": 3,
   "metadata": {},
   "outputs": [
    {
     "name": "stdout",
     "output_type": "stream",
     "text": [
      "10\n",
      "8\n",
      "6\n",
      "4\n",
      "2\n"
     ]
    }
   ],
   "source": [
    "for i in range(10,0,-2): # 역순으로 진행하면서 step을 1 말고 다르게 주고 싶을 때는 -> -2 , -3 이렇게 !!\n",
    "    print(i)"
   ]
  },
  {
   "cell_type": "markdown",
   "metadata": {},
   "source": [
    "퀵정렬"
   ]
  },
  {
   "cell_type": "code",
   "execution_count": 10,
   "metadata": {},
   "outputs": [],
   "source": [
    "def quick_sort(array, start, end):\n",
    "    if start >= end: #리스트의 원소 개수가 1개인 경우 종료 \n",
    "        return\n",
    "    pivot = start # 초기 피벗은 원소 첫번째임. \n",
    "    left = start +1 \n",
    "    right = end\n",
    "    while left <= right : \n",
    "        while left <= end and array[left] <= array[pivot]: \n",
    "            left +=1 \n",
    "        while right > start and array[right] >= array[pivot]:\n",
    "            right -=1 \n",
    "        if left > right : #방향이 엇갈리는 경우 , 작은값인 right 와 pivot에 해당하는 값을 변경 \n",
    "            array[right] , array[pivot] = array[pivot] , array[right]\n",
    "            print(array)\n",
    "        else: \n",
    "            array[left] , array[right] = array[right] , array[left]\n",
    "            print(array)\n",
    "    \n",
    "    quick_sort(array, start, right-1) #다시 또 정렬 과정 \n",
    "    quick_sort(array, right+1, end)\n"
   ]
  },
  {
   "cell_type": "code",
   "execution_count": 11,
   "metadata": {},
   "outputs": [
    {
     "name": "stdout",
     "output_type": "stream",
     "text": [
      "[7, 5, 4, 0, 3, 1, 6, 2, 9, 8]\n",
      "[2, 5, 4, 0, 3, 1, 6, 7, 9, 8]\n",
      "[2, 1, 4, 0, 3, 5, 6, 7, 9, 8]\n",
      "[2, 1, 0, 4, 3, 5, 6, 7, 9, 8]\n",
      "[0, 1, 2, 4, 3, 5, 6, 7, 9, 8]\n",
      "[0, 1, 2, 4, 3, 5, 6, 7, 9, 8]\n",
      "[0, 1, 2, 3, 4, 5, 6, 7, 9, 8]\n",
      "[0, 1, 2, 3, 4, 5, 6, 7, 9, 8]\n",
      "[0, 1, 2, 3, 4, 5, 6, 7, 8, 9]\n",
      "[0, 1, 2, 3, 4, 5, 6, 7, 8, 9]\n"
     ]
    }
   ],
   "source": [
    "arr = [7,5,9,0,3,1,6,2,4,8]\n",
    "quick_sort(arr,0,len(arr)-1)\n",
    "print(arr)"
   ]
  },
  {
   "cell_type": "markdown",
   "metadata": {},
   "source": [
    "파이썬의 장점을 살린 퀵정렬 (list comprehension)"
   ]
  },
  {
   "cell_type": "code",
   "execution_count": null,
   "metadata": {},
   "outputs": [],
   "source": [
    "arr = [5,7,9,0,3,1,6,2,4,8]\n",
    "\n",
    "\n",
    "def quick_sort(array):\n",
    "    if len(array)<1: return array\n",
    "\n",
    "    pivot = array[0]\n",
    "    tail = array[1:]\n",
    "\n",
    "    left_side = [x for x in tail if x<=pivot]\n",
    "    right_side = [x for x in tail if x> pivot]\n",
    "\n",
    "    return quick_sort(left_side) + [pivot] + quick_sort(right_side)"
   ]
  }
 ],
 "metadata": {
  "interpreter": {
   "hash": "9ccb8ad3244050595930a0fcf31ccb7da133f814cdfc5048019b2ea63717ec5c"
  },
  "kernelspec": {
   "display_name": "Python 3.9.5 64-bit",
   "language": "python",
   "name": "python3"
  },
  "language_info": {
   "codemirror_mode": {
    "name": "ipython",
    "version": 3
   },
   "file_extension": ".py",
   "mimetype": "text/x-python",
   "name": "python",
   "nbconvert_exporter": "python",
   "pygments_lexer": "ipython3",
   "version": "3.9.5"
  },
  "orig_nbformat": 4
 },
 "nbformat": 4,
 "nbformat_minor": 2
}
